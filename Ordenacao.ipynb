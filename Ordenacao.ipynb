{
 "cells": [
  {
   "cell_type": "markdown",
   "metadata": {},
   "source": [
    "Ordenação por inserção, um algoritmo eficiente para ordenar um número pequeno de\n",
    "elementos. A ordenação por inserção funciona da maneira como muitas pessoas ordenam as cartas em um jogo de\n",
    "baralho. Iniciamos com a mão esquerda vazia e as cartas viradas para baixo, na mesa. Em seguida, retiramos uma carta\n",
    "de cada vez da mesa e a inserimos na posição correta na mão esquerda. Para encontrar a posição correta para uma\n",
    "carta, nós a comparamos com cada uma das cartas que já estão na mão, da direita para a esquerda. \n",
    "Em todas as vezes, as cartas que seguramos na mão esquerda são ordenadas, e essas cartas eram as que\n",
    "estavam na parte superior da pilha sobre a mesa.\n",
    "O código é apresentado como um procedimento denominado InsertionSort, que toma como parâmetro um arranjo A[1 .. n] contendo uma sequência de comprimento n que deverá ser\n",
    "ordenada. O algoritmo ordena os\n",
    "números da entrada no lugar: reorganiza os números dentro do arranjo A, com no máximo um número constante deles\n",
    "armazenado fora do arranjo em qualquer instante. O arranjo de entrada A conterá a sequência de saída ordenada\n",
    "quando Insertion-Sort terminar."
   ]
  },
  {
   "cell_type": "code",
   "execution_count": 3,
   "metadata": {},
   "outputs": [],
   "source": [
    "def insertion_sort(A):\n",
    "    j = 1\n",
    "    while j < len(A):\n",
    "        key = A[j]\n",
    "        i = j - 1\n",
    "        while i > -1 and A[i] > key:\n",
    "            A[i + 1] = A[i]\n",
    "            i = i - 1\n",
    "        A[i + 1] = key\n",
    "        j = j + 1"
   ]
  },
  {
   "cell_type": "code",
   "execution_count": 5,
   "metadata": {},
   "outputs": [
    {
     "name": "stdout",
     "output_type": "stream",
     "text": [
      "[1, 2, 3, 4, 5, 6]\n"
     ]
    }
   ],
   "source": [
    "A = [5, 2, 4, 6, 1, 3]\n",
    "insertion_sort(A)\n",
    "print(A)"
   ]
  }
 ],
 "metadata": {
  "interpreter": {
   "hash": "ab4b0b8b2cecb81461e9b19003944446efe799e9c4799497e8133367e4971224"
  },
  "kernelspec": {
   "display_name": "Python 3.8.6 64-bit",
   "language": "python",
   "name": "python3"
  },
  "language_info": {
   "codemirror_mode": {
    "name": "ipython",
    "version": 3
   },
   "file_extension": ".py",
   "mimetype": "text/x-python",
   "name": "python",
   "nbconvert_exporter": "python",
   "pygments_lexer": "ipython3",
   "version": "3.8.6"
  },
  "orig_nbformat": 4
 },
 "nbformat": 4,
 "nbformat_minor": 2
}
